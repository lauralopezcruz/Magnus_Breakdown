{
 "cells": [
  {
   "cell_type": "code",
   "execution_count": 78,
   "metadata": {},
   "outputs": [],
   "source": [
    "#checks if two generators are inverses of each other, generators entered as lists\n",
    "def is_inverse(generator1,generator2): \n",
    "    if generator2[0]==generator1[0]+\"^-1\" or generator1[0]==generator2[0]+\"^-1\":\n",
    "        if generator1[1]==generator2[1]:\n",
    "            return True\n",
    "    return False\n",
    "    "
   ]
  },
  {
   "cell_type": "code",
   "execution_count": 81,
   "metadata": {},
   "outputs": [
    {
     "data": {
      "text/plain": [
       "False"
      ]
     },
     "execution_count": 81,
     "metadata": {},
     "output_type": "execute_result"
    }
   ],
   "source": [
    "is_inverse([\"a\",3],[\"a\",3])"
   ]
  },
  {
   "cell_type": "code",
   "execution_count": 94,
   "metadata": {},
   "outputs": [],
   "source": [
    "#relation and generator are inputed already adjusted eg. [[\"a\",\"\"],[\"b^-1\",\"\"],[\"c\",\"\"],[\"a\",\"\"]] \n",
    "#computes exponent sum of a generator\n",
    "def exponent_sum(generator,relation):\n",
    "    positive_exponent=0\n",
    "    negative_exponent=0\n",
    "    for letter in relation:\n",
    "        if letter==generator: \n",
    "            positive_exponent+=1\n",
    "        elif is_inverse(letter,generator)==True:\n",
    "            negative_exponent+= 1\n",
    "    return positive_exponent-negative_exponent"
   ]
  },
  {
   "cell_type": "code",
   "execution_count": 95,
   "metadata": {},
   "outputs": [
    {
     "data": {
      "text/plain": [
       "2"
      ]
     },
     "execution_count": 95,
     "metadata": {},
     "output_type": "execute_result"
    }
   ],
   "source": [
    "exponent_sum([\"c\",\"\"],relation_adjustment(\"a^-1bcaab^-1ccac^-1\"))"
   ]
  },
  {
   "cell_type": "code",
   "execution_count": 62,
   "metadata": {},
   "outputs": [],
   "source": [
    "#we take in relation as string and converts it into a list of lists. This is only used at the beginning.\n",
    "def relation_adjustment(relation):\n",
    "    relation=list(relation)\n",
    "    relation_list=[]\n",
    "    for character in relation:\n",
    "        if character.isalpha():\n",
    "            relation_list.append(character)\n",
    "        else:\n",
    "            relation_list[len(relation_list)-1]=relation_list[len(relation_list)-1]+character\n",
    "    for i in range(len(relation_list)):\n",
    "        relation_list[i]=[relation_list[i],\"\"]\n",
    "    return relation_list"
   ]
  },
  {
   "cell_type": "code",
   "execution_count": 64,
   "metadata": {},
   "outputs": [
    {
     "data": {
      "text/plain": [
       "[['a', ''], ['b^-1', ''], ['c', '']]"
      ]
     },
     "execution_count": 64,
     "metadata": {},
     "output_type": "execute_result"
    }
   ],
   "source": [
    "relation_adjustment(\"ab^-1c\")"
   ]
  },
  {
   "cell_type": "code",
   "execution_count": 20,
   "metadata": {},
   "outputs": [],
   "source": [
    "#Takes generators as a list, and returns list of lists where the second element in each list\n",
    "#is it's index. If it has no index, there will be empty string. eg a_-1 is [a,-1], b^-1 is [b^-1,\"\"]\n",
    "def generators_adjustment(generators):\n",
    "    generators_list=[]\n",
    "    for generator in generators:\n",
    "        generators_list.append([generator,\"\"])\n",
    "    return generators_list"
   ]
  },
  {
   "cell_type": "code",
   "execution_count": 21,
   "metadata": {},
   "outputs": [
    {
     "data": {
      "text/plain": [
       "[['a', ''], ['b', ''], ['c', '']]"
      ]
     },
     "execution_count": 21,
     "metadata": {},
     "output_type": "execute_result"
    }
   ],
   "source": [
    "generators_adjustment([\"a\",\"b\",\"c\"])"
   ]
  },
  {
   "cell_type": "code",
   "execution_count": null,
   "metadata": {},
   "outputs": [],
   "source": []
  },
  {
   "cell_type": "code",
   "execution_count": 22,
   "metadata": {},
   "outputs": [],
   "source": [
    "#returns the inverse of an element (entered as a list)\n",
    "def inverse(element):\n",
    "    if len(element[0])==1:\n",
    "        element[0]=element[0]+\"^-1\"\n",
    "        return element\n",
    "    else:\n",
    "        element[0]=element[0][0]\n",
    "        return element"
   ]
  },
  {
   "cell_type": "code",
   "execution_count": 96,
   "metadata": {},
   "outputs": [
    {
     "data": {
      "text/plain": [
       "['a^-1', '3']"
      ]
     },
     "execution_count": 96,
     "metadata": {},
     "output_type": "execute_result"
    }
   ],
   "source": [
    "inverse([\"a\",\"3\"])"
   ]
  },
  {
   "cell_type": "code",
   "execution_count": 97,
   "metadata": {},
   "outputs": [],
   "source": [
    "#Here we rewrite relation so that the generator with exponent sum=0 is not in the first position\n",
    "#relation and generators are already adjusted\n",
    "def remove_exp_zero(zero_generator,relation):\n",
    "    new_relation=relation\n",
    "    n=0\n",
    "    for letter in relation:\n",
    "        if letter==zero_generator or letter==inverse(zero_generator):\n",
    "            new_relation=new_relation[1:]\n",
    "            new_relation.append(inverse(letter))\n",
    "        else:\n",
    "            return new_relation\n",
    "    return new_relation"
   ]
  },
  {
   "cell_type": "code",
   "execution_count": 102,
   "metadata": {},
   "outputs": [
    {
     "data": {
      "text/plain": [
       "[['b', ''], ['c', 3], ['a', '3']]"
      ]
     },
     "execution_count": 102,
     "metadata": {},
     "output_type": "execute_result"
    }
   ],
   "source": [
    "remove_exp_zero([\"a\",\"3\"],[[\"a^-1\",\"3\"],[\"b\",\"\"],[\"c\",3]])"
   ]
  },
  {
   "cell_type": "code",
   "execution_count": null,
   "metadata": {},
   "outputs": [],
   "source": [
    "#rewrites adjusted relation and puts subscripts\n",
    "#it takes in the relation after having removed the generator with exponent sum 0 from the start(or its inverse)\n",
    "def relation_prime(zero_generator,relation):\n",
    "    new_relation=[]\n",
    "    for i in relation:\n",
    "        if zero_generator not in i:\n",
    "            new_relation.append(i+str(-1*exp_counter(zero_generator,i,sylls)))\n",
    "    return new_relation"
   ]
  },
  {
   "cell_type": "code",
   "execution_count": 195,
   "metadata": {},
   "outputs": [
    {
     "data": {
      "text/plain": [
       "['a^-1', '']"
      ]
     },
     "execution_count": 195,
     "metadata": {},
     "output_type": "execute_result"
    }
   ],
   "source": [
    "inverse([\"a\",\"\"])"
   ]
  },
  {
   "cell_type": "code",
   "execution_count": 200,
   "metadata": {},
   "outputs": [],
   "source": [
    "#input is zero_generator and relation already adjusted\n",
    "#we make a list with each element in the relation and the exp sum of the zero generator before the element\n",
    "def exp_counter(zero_generator,relation):\n",
    "    exp_list=[]\n",
    "    for letter in relation:\n",
    "        alpha=0\n",
    "        if letter != zero_generator:\n",
    "            for j in relation:\n",
    "                if j==zero_generator:\n",
    "                    alpha=alpha+1\n",
    "                elif j==inverse(zero_generator):\n",
    "                    alpha=alpha-1\n",
    "                elif j==letter:\n",
    "                    exp_list.append([letter,alpha])\n",
    "                    letter[0]=letter[0]+\" flag\"\n",
    "                    print(relation)\n",
    "                    break\n",
    "    return exp_list\n"
   ]
  },
  {
   "cell_type": "code",
   "execution_count": 201,
   "metadata": {},
   "outputs": [
    {
     "name": "stdout",
     "output_type": "stream",
     "text": [
      "[['b^-1', ''], ['a', ''], ['a', ''], ['c', ''], ['a^-1', ''], ['a^-1', ''], ['c', ''], ['d', '']]\n",
      "[['b^-1 flag', ''], ['a', ''], ['a', ''], ['c', ''], ['a^-1', ''], ['a^-1', ''], ['c', ''], ['d', '']]\n",
      "[['b^-1 flag', ''], ['a', ''], ['a', ''], ['c flag', ''], ['a^-1', ''], ['a^-1', ''], ['c', ''], ['d', '']]\n",
      "[['b^-1 flag', ''], ['a', ''], ['a', ''], ['c flag', ''], ['a^-1', ''], ['a^-1', ''], ['c flag', ''], ['d', '']]\n",
      "[['b^-1 flag', ''], ['a', ''], ['a', ''], ['c flag', ''], ['a^-1', ''], ['a^-1', ''], ['c flag', ''], ['d flag', '']]\n"
     ]
    },
    {
     "data": {
      "text/plain": [
       "[[['b^-1 flag', ''], 0],\n",
       " [['c flag', ''], 2],\n",
       " [['c flag', ''], 4],\n",
       " [['d flag', ''], 2]]"
      ]
     },
     "execution_count": 201,
     "metadata": {},
     "output_type": "execute_result"
    }
   ],
   "source": [
    "print(relation_adjustment(\"b^-1aaca^-1a^-1cd\"))\n",
    "exp_counter([\"a\",\"\"],relation_adjustment(\"b^-1aaca^-1a^-1cd\"))"
   ]
  },
  {
   "cell_type": "code",
   "execution_count": 173,
   "metadata": {},
   "outputs": [
    {
     "data": {
      "text/plain": [
       "[['b^-1', ''],\n",
       " ['a', ''],\n",
       " ['a', ''],\n",
       " ['c', ''],\n",
       " ['a^-1', ''],\n",
       " ['a^-1', ''],\n",
       " ['c', ''],\n",
       " ['d', '']]"
      ]
     },
     "execution_count": 173,
     "metadata": {},
     "output_type": "execute_result"
    }
   ],
   "source": [
    "relation_adjustment(\"b^-1aaca^-1a^-1cd\")"
   ]
  },
  {
   "cell_type": "code",
   "execution_count": 137,
   "metadata": {},
   "outputs": [],
   "source": [
    "#Returns the subscript of a syllable\n",
    "def syllable_subscript(syllable):\n",
    "    if \"-\" in syllable[len(syllable)-2]:\n",
    "        return int(syllable[len(syllable)-2:])\n",
    "    else:\n",
    "        return int(syllable[len(syllable)-1])"
   ]
  },
  {
   "cell_type": "code",
   "execution_count": null,
   "metadata": {},
   "outputs": [],
   "source": [
    "#for a generator, we compute the smallest subscript appearing on that generator in relation_prime\n",
    "#we do not imput zero_generator for generator here\n",
    "def smallest_subscript(generator,relation_prime):\n",
    "    for syllable in relation_prime:\n",
    "        if generator in syllable:\n",
    "            smallest_subscript=syllable_subscript(syllable)\n",
    "#here we set smallest_subscript to the first subscript that appears in a syllable with the generator\n",
    "    for syllable in relation_prime:\n",
    "        if generator in syllable and syllable_subscript(syllable)<smallest_subscript:\n",
    "            smallest_subscript=syllable_subscript(syllable)\n",
    "    return smallest_subscript"
   ]
  },
  {
   "cell_type": "code",
   "execution_count": null,
   "metadata": {},
   "outputs": [],
   "source": [
    "def largest_subscript(generator,relation_prime):\n",
    "    for syllable in relation_prime:\n",
    "        if generator in syllable:\n",
    "            largest_subscript=syllable_subscript(syllable)\n",
    "#here we set smallest_subscript to the first subscript that appears in a syllable with the generator\n",
    "    for syllable in relation_prime:\n",
    "        if generator in syllable and syllable_subscript(syllable)>largest_subscript:\n",
    "            largest_subscript=syllable_subscript(syllable)\n",
    "    return largest_subscript"
   ]
  },
  {
   "cell_type": "code",
   "execution_count": null,
   "metadata": {},
   "outputs": [],
   "source": [
    "#Returns a list of generators from relation_prime\n",
    "def generator_retriever(relation_prime):\n",
    "    generator_list=[]\n",
    "    for syllable in relation_prime:\n",
    "        generator_of_syllable=syllable[0]\n",
    "        if generator_of_syllable not in generator_list:\n",
    "            generator_list.append(generator_of_syllable)\n",
    "    return generator_list\n",
    "        "
   ]
  },
  {
   "cell_type": "code",
   "execution_count": null,
   "metadata": {},
   "outputs": [],
   "source": [
    "#Returns a relation in a list back as a string\n",
    "def relation_string(relation_prime):\n",
    "    relation_str=\"\"\n",
    "    for element in relation_prime:\n",
    "        relation_str=relation_str+element\n",
    "    return relation_str"
   ]
  },
  {
   "cell_type": "code",
   "execution_count": null,
   "metadata": {},
   "outputs": [],
   "source": [
    "#Returns the presentation of intermediate group H. G is isomorphic to an HNN extension of H.\n",
    "def subgroup_pres(relation_prime):\n",
    "    generator_list=generator_retriever(relation_prime)\n",
    "    subgroup_generators=[]\n",
    "    for generator in generator_list:\n",
    "        l_subscript=largest_subscript(generator,relation_prime)\n",
    "        s_subscript=smallest_subscript(generator,relation_prime)\n",
    "        indeces=list(range(s_subscript,l_subscript+1))\n",
    "        for i in indeces:\n",
    "            subgroup_generators.append(generator+f\"_{i}\")\n",
    "    return [subgroup_generators, relation_string(relation_prime)]"
   ]
  },
  {
   "cell_type": "code",
   "execution_count": null,
   "metadata": {},
   "outputs": [],
   "source": [
    "#Magnus Breakdown-one iteration\n",
    "#input generators as a list, relation as a string\n",
    "def magnus_breakdown(generators,relation):\n",
    "    for generator in generators:\n",
    "        if exponent_sum(generator,relation_adjustment(relation))==0:\n",
    "            zero_generator=generator\n",
    "            relation_temp=remove_exp_zero(zero_generator,relation_adjustment(relation))\n",
    "            relation_temp=relation_prime(zero_generator,relation_temp)\n",
    "        \n",
    "    return subgroup_pres(relation_temp)\n",
    "    "
   ]
  }
 ],
 "metadata": {
  "kernelspec": {
   "display_name": "Python 3",
   "language": "python",
   "name": "python3"
  },
  "language_info": {
   "codemirror_mode": {
    "name": "ipython",
    "version": 3
   },
   "file_extension": ".py",
   "mimetype": "text/x-python",
   "name": "python",
   "nbconvert_exporter": "python",
   "pygments_lexer": "ipython3",
   "version": "3.7.4"
  }
 },
 "nbformat": 4,
 "nbformat_minor": 2
}
