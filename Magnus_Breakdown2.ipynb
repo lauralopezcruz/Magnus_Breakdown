{
 "cells": [
  {
   "cell_type": "code",
   "execution_count": 1,
   "metadata": {},
   "outputs": [],
   "source": [
    "import string"
   ]
  },
  {
   "cell_type": "code",
   "execution_count": 2,
   "metadata": {},
   "outputs": [],
   "source": [
    "#checks if two generators are inverses of each other, generators entered as lists\n",
    "def is_inverse(generator1,generator2): \n",
    "    if generator2[0]==generator1[0]+\"^-1\" or generator1[0]==generator2[0]+\"^-1\":\n",
    "        if generator1[1]==generator2[1]:\n",
    "            return True\n",
    "    return False\n",
    "    "
   ]
  },
  {
   "cell_type": "code",
   "execution_count": 3,
   "metadata": {},
   "outputs": [
    {
     "name": "stdout",
     "output_type": "stream",
     "text": [
      "False\n",
      "False\n",
      "True\n",
      "False\n",
      "False\n"
     ]
    }
   ],
   "source": [
    "print(is_inverse([\"a\",3],[\"a\",3]))\n",
    "print(is_inverse([\"a\",3],[\"a\",2]))\n",
    "print(is_inverse([\"a^-1\",3],[\"a\",3]))\n",
    "print(is_inverse([\"a^-1\",\"3\"],[\"a\",3])) # **is index int or str?**\n",
    "print(is_inverse([\"a^-1\",2],[\"a\",3]))"
   ]
  },
  {
   "cell_type": "code",
   "execution_count": 4,
   "metadata": {},
   "outputs": [],
   "source": [
    "#relation and generator are inputed already adjusted eg. [[\"a\",\"\"],[\"b^-1\",\"\"],[\"c\",\"\"],[\"a\",\"\"]] \n",
    "#computes exponent sum of a generator\n",
    "def exponent_sum(generator,relation):\n",
    "    positive_exponent=0\n",
    "    negative_exponent=0\n",
    "    for letter in relation:\n",
    "        if letter==generator: \n",
    "            positive_exponent+=1\n",
    "        elif is_inverse(letter,generator)==True:\n",
    "            negative_exponent+= 1\n",
    "    return positive_exponent-negative_exponent"
   ]
  },
  {
   "cell_type": "code",
   "execution_count": 5,
   "metadata": {},
   "outputs": [],
   "source": [
    "#we take in relation as string and converts it into a list of lists. This is only used at the beginning.\n",
    "def relation_adjustment(relation):\n",
    "    #relation=list(relation)\n",
    "    relation_list=[]\n",
    "    for character in relation:\n",
    "        if character.isalpha():\n",
    "            relation_list.append(character)\n",
    "        else:\n",
    "            relation_list[len(relation_list)-1]=relation_list[len(relation_list)-1]+character\n",
    "    for i in range(len(relation_list)):\n",
    "        relation_list[i]=[relation_list[i],\"\"]\n",
    "    return relation_list"
   ]
  },
  {
   "cell_type": "code",
   "execution_count": 6,
   "metadata": {},
   "outputs": [
    {
     "name": "stdout",
     "output_type": "stream",
     "text": [
      "[['a', ''], ['b^-1', ''], ['c', '']]\n",
      "[['a^2', ''], ['b^-1', ''], ['c', '']]\n"
     ]
    }
   ],
   "source": [
    "print(relation_adjustment(\"ab^-1c\"))\n",
    "print(relation_adjustment(\"a^2b^-1c\"))"
   ]
  },
  {
   "cell_type": "code",
   "execution_count": 7,
   "metadata": {
    "scrolled": true
   },
   "outputs": [
    {
     "name": "stdout",
     "output_type": "stream",
     "text": [
      "2\n",
      "5\n"
     ]
    }
   ],
   "source": [
    "print(exponent_sum([\"c\",\"\"],relation_adjustment(\"a^-1bcaab^-1ccac^-1\")))\n",
    "print(exponent_sum([\"a\",\"\"],relation_adjustment(\"a^-1bcaab^-1ccac^-1aaa\")))"
   ]
  },
  {
   "cell_type": "code",
   "execution_count": 8,
   "metadata": {},
   "outputs": [],
   "source": [
    "#Takes generators as a list, and returns list of lists where the second element in each list\n",
    "#is it's index. If it has no index, there will be empty string. eg a_-1 is [a,-1], b^-1 is [b^-1,\"\"]\n",
    "def generators_adjustment(generators):\n",
    "    generators_list=[]\n",
    "    for generator in generators:\n",
    "        generators_list.append([generator,\"\"])\n",
    "    return generators_list"
   ]
  },
  {
   "cell_type": "code",
   "execution_count": 9,
   "metadata": {},
   "outputs": [
    {
     "name": "stdout",
     "output_type": "stream",
     "text": [
      "[['a', ''], ['b', ''], ['c', '']]\n",
      "[['a_-100', ''], ['a_-1', '']]\n"
     ]
    }
   ],
   "source": [
    "print(generators_adjustment([\"a\",\"b\",\"c\"]))\n",
    "print(generators_adjustment(['a_-100',\"a_-1\"])) # **unfinished**"
   ]
  },
  {
   "cell_type": "code",
   "execution_count": 10,
   "metadata": {},
   "outputs": [],
   "source": [
    "#returns the inverse of an element (entered as a list)\n",
    "def inverse(element):\n",
    "    if len(element[0])==1:\n",
    "        element[0]=element[0]+\"^-1\"\n",
    "        return element\n",
    "    else:\n",
    "        element[0]=element[0][0]\n",
    "        return element"
   ]
  },
  {
   "cell_type": "code",
   "execution_count": 11,
   "metadata": {},
   "outputs": [
    {
     "name": "stdout",
     "output_type": "stream",
     "text": [
      "['a^-1', '3']\n",
      "['a', '99']\n"
     ]
    }
   ],
   "source": [
    "print(inverse([\"a\",\"3\"]))\n",
    "print(inverse(['a^-1','99']))"
   ]
  },
  {
   "cell_type": "code",
   "execution_count": 12,
   "metadata": {},
   "outputs": [],
   "source": [
    "#Here we rewrite relation so that the generator with exponent sum=0 is not in the first position\n",
    "#relation and generators are already adjusted\n",
    "def remove_exp_zero(zero_generator,relation):\n",
    "    new_relation=relation\n",
    "    n=0\n",
    "    for letter in relation:\n",
    "        if letter==zero_generator or letter==inverse(zero_generator):\n",
    "            new_relation=new_relation[1:]\n",
    "            new_relation.append(inverse(letter))\n",
    "        else:\n",
    "            return new_relation\n",
    "    return new_relation"
   ]
  },
  {
   "cell_type": "code",
   "execution_count": 13,
   "metadata": {},
   "outputs": [
    {
     "name": "stdout",
     "output_type": "stream",
     "text": [
      "[['b', ''], ['c', 3], ['a', '3']]\n",
      "[['b', ''], ['c', 3], ['a^-1', 3], ['a', 3]]\n",
      "[['b', ''], ['c', 3]]\n",
      "[['b^-1', ''], ['a', ''], ['c', ''], ['a^-1', '']]\n"
     ]
    }
   ],
   "source": [
    "print(remove_exp_zero([\"a\",\"3\"],[[\"a^-1\",\"3\"],[\"b\",\"\"],[\"c\",3]])) # **type of index is inconsistent, str or int?**\n",
    "print(remove_exp_zero([\"a\",3],[[\"a\",3],[\"a^-1\",3],[\"b\",\"\"],[\"c\",3]]))\n",
    "print(remove_exp_zero([\"a\",3],[[\"b\",\"\"],[\"c\",3]]))\n",
    "print(remove_exp_zero([\"a\",\"\"],relation_adjustment(\"ab^-1ac\")))"
   ]
  },
  {
   "cell_type": "code",
   "execution_count": 14,
   "metadata": {},
   "outputs": [],
   "source": [
    "#rewrites adjusted relation and puts subscripts\n",
    "#it takes in the relation after having removed the generator with exponent sum 0 from the start(or its inverse)\n",
    "def relation_prime(zero_generator,relation):\n",
    "    new_relation=[]\n",
    "    for i in relation:\n",
    "        if zero_generator not in i:\n",
    "            new_relation.append(i+str(-1*exp_counter(zero_generator,i,sylls)))\n",
    "    return new_relation"
   ]
  },
  {
   "cell_type": "code",
   "execution_count": 15,
   "metadata": {},
   "outputs": [
    {
     "data": {
      "text/plain": [
       "['a^-1', '']"
      ]
     },
     "execution_count": 15,
     "metadata": {},
     "output_type": "execute_result"
    }
   ],
   "source": [
    "inverse([\"a\",\"\"])"
   ]
  },
  {
   "cell_type": "code",
   "execution_count": 16,
   "metadata": {},
   "outputs": [
    {
     "ename": "NameError",
     "evalue": "name 'exp_counter' is not defined",
     "output_type": "error",
     "traceback": [
      "\u001b[0;31m---------------------------------------------------------------------------\u001b[0m",
      "\u001b[0;31mNameError\u001b[0m                                 Traceback (most recent call last)",
      "\u001b[0;32m<ipython-input-16-2b1f07699a0e>\u001b[0m in \u001b[0;36m<module>\u001b[0;34m\u001b[0m\n\u001b[0;32m----> 1\u001b[0;31m \u001b[0mrelation_prime\u001b[0m\u001b[0;34m(\u001b[0m\u001b[0;34m[\u001b[0m\u001b[0;34m'a'\u001b[0m\u001b[0;34m,\u001b[0m\u001b[0;34m''\u001b[0m\u001b[0;34m]\u001b[0m\u001b[0;34m,\u001b[0m \u001b[0mrelation_adjustment\u001b[0m\u001b[0;34m(\u001b[0m\u001b[0;34m'bacbba^-1a^-1a^-1cccaa'\u001b[0m\u001b[0;34m)\u001b[0m\u001b[0;34m)\u001b[0m\u001b[0;34m\u001b[0m\u001b[0;34m\u001b[0m\u001b[0m\n\u001b[0m",
      "\u001b[0;32m<ipython-input-14-351b9fe65181>\u001b[0m in \u001b[0;36mrelation_prime\u001b[0;34m(zero_generator, relation)\u001b[0m\n\u001b[1;32m      5\u001b[0m     \u001b[0;32mfor\u001b[0m \u001b[0mi\u001b[0m \u001b[0;32min\u001b[0m \u001b[0mrelation\u001b[0m\u001b[0;34m:\u001b[0m\u001b[0;34m\u001b[0m\u001b[0;34m\u001b[0m\u001b[0m\n\u001b[1;32m      6\u001b[0m         \u001b[0;32mif\u001b[0m \u001b[0mzero_generator\u001b[0m \u001b[0;32mnot\u001b[0m \u001b[0;32min\u001b[0m \u001b[0mi\u001b[0m\u001b[0;34m:\u001b[0m\u001b[0;34m\u001b[0m\u001b[0;34m\u001b[0m\u001b[0m\n\u001b[0;32m----> 7\u001b[0;31m             \u001b[0mnew_relation\u001b[0m\u001b[0;34m.\u001b[0m\u001b[0mappend\u001b[0m\u001b[0;34m(\u001b[0m\u001b[0mi\u001b[0m\u001b[0;34m+\u001b[0m\u001b[0mstr\u001b[0m\u001b[0;34m(\u001b[0m\u001b[0;34m-\u001b[0m\u001b[0;36m1\u001b[0m\u001b[0;34m*\u001b[0m\u001b[0mexp_counter\u001b[0m\u001b[0;34m(\u001b[0m\u001b[0mzero_generator\u001b[0m\u001b[0;34m,\u001b[0m\u001b[0mi\u001b[0m\u001b[0;34m,\u001b[0m\u001b[0msylls\u001b[0m\u001b[0;34m)\u001b[0m\u001b[0;34m)\u001b[0m\u001b[0;34m)\u001b[0m\u001b[0;34m\u001b[0m\u001b[0;34m\u001b[0m\u001b[0m\n\u001b[0m\u001b[1;32m      8\u001b[0m     \u001b[0;32mreturn\u001b[0m \u001b[0mnew_relation\u001b[0m\u001b[0;34m\u001b[0m\u001b[0;34m\u001b[0m\u001b[0m\n",
      "\u001b[0;31mNameError\u001b[0m: name 'exp_counter' is not defined"
     ]
    }
   ],
   "source": [
    "relation_prime(['a',''], relation_adjustment('bacbba^-1a^-1a^-1cccaa'))"
   ]
  },
  {
   "cell_type": "code",
   "execution_count": null,
   "metadata": {},
   "outputs": [],
   "source": [
    "#input is zero_generator and relation already adjusted\n",
    "#we make a list with each element in the relation and the exp sum of the zero generator before the element\n",
    "def exp_counter(zero_generator,relation):\n",
    "    exp_list=[]\n",
    "    for letter in relation:\n",
    "        alpha=0\n",
    "        if letter != zero_generator:\n",
    "            for j in relation:\n",
    "                if j==zero_generator:\n",
    "                    alpha=alpha+1\n",
    "                elif j==inverse(zero_generator):\n",
    "                    alpha=alpha-1\n",
    "                elif j==letter:\n",
    "                    exp_list.append([letter,alpha])\n",
    "                    letter[0]=letter[0]+\" flag\"\n",
    "                    print(relation)\n",
    "                    break\n",
    "    return exp_list\n"
   ]
  },
  {
   "cell_type": "code",
   "execution_count": null,
   "metadata": {},
   "outputs": [],
   "source": [
    "print(relation_adjustment(\"b^-1aaca^-1a^-1cd\"))\n",
    "exp_counter([\"a\",\"\"],relation_adjustment(\"b^-1aaca^-1a^-1cd\"))"
   ]
  },
  {
   "cell_type": "code",
   "execution_count": null,
   "metadata": {},
   "outputs": [],
   "source": [
    "relation_adjustment(\"b^-1aaca^-1a^-1cd\")"
   ]
  },
  {
   "cell_type": "code",
   "execution_count": null,
   "metadata": {},
   "outputs": [],
   "source": [
    "#Returns the subscript of a syllable\n",
    "def syllable_subscript(syllable):\n",
    "    if \"-\" in syllable[len(syllable)-2]:\n",
    "        return int(syllable[len(syllable)-2:])\n",
    "    else:\n",
    "        return int(syllable[len(syllable)-1])"
   ]
  },
  {
   "cell_type": "code",
   "execution_count": null,
   "metadata": {},
   "outputs": [],
   "source": [
    "#for a generator, we compute the smallest subscript appearing on that generator in relation_prime\n",
    "#we do not imput zero_generator for generator here\n",
    "def smallest_subscript(generator,relation_prime):\n",
    "    for syllable in relation_prime:\n",
    "        if generator in syllable:\n",
    "            smallest_subscript=syllable_subscript(syllable)\n",
    "#here we set smallest_subscript to the first subscript that appears in a syllable with the generator\n",
    "    for syllable in relation_prime:\n",
    "        if generator in syllable and syllable_subscript(syllable)<smallest_subscript:\n",
    "            smallest_subscript=syllable_subscript(syllable)\n",
    "    return smallest_subscript"
   ]
  },
  {
   "cell_type": "code",
   "execution_count": null,
   "metadata": {},
   "outputs": [],
   "source": [
    "def largest_subscript(generator,relation_prime):\n",
    "    for syllable in relation_prime:\n",
    "        if generator in syllable:\n",
    "            largest_subscript=syllable_subscript(syllable)\n",
    "#here we set smallest_subscript to the first subscript that appears in a syllable with the generator\n",
    "    for syllable in relation_prime:\n",
    "        if generator in syllable and syllable_subscript(syllable)>largest_subscript:\n",
    "            largest_subscript=syllable_subscript(syllable)\n",
    "    return largest_subscript"
   ]
  },
  {
   "cell_type": "code",
   "execution_count": null,
   "metadata": {},
   "outputs": [],
   "source": [
    "#Returns a list of generators from relation_prime\n",
    "def generator_retriever(relation_prime):\n",
    "    generator_list=[]\n",
    "    for syllable in relation_prime:\n",
    "        generator_of_syllable=syllable[0]\n",
    "        if generator_of_syllable not in generator_list:\n",
    "            generator_list.append(generator_of_syllable)\n",
    "    return generator_list\n",
    "        "
   ]
  },
  {
   "cell_type": "code",
   "execution_count": null,
   "metadata": {},
   "outputs": [],
   "source": [
    "#Returns a relation in a list back as a string\n",
    "def relation_string(relation_prime):\n",
    "    relation_str=\"\"\n",
    "    for element in relation_prime:\n",
    "        relation_str=relation_str+element\n",
    "    return relation_str"
   ]
  },
  {
   "cell_type": "code",
   "execution_count": null,
   "metadata": {},
   "outputs": [],
   "source": [
    "#Returns the presentation of intermediate group H. G is isomorphic to an HNN extension of H.\n",
    "def subgroup_pres(relation_prime):\n",
    "    generator_list=generator_retriever(relation_prime)\n",
    "    subgroup_generators=[]\n",
    "    for generator in generator_list:\n",
    "        l_subscript=largest_subscript(generator,relation_prime)\n",
    "        s_subscript=smallest_subscript(generator,relation_prime)\n",
    "        indeces=list(range(s_subscript,l_subscript+1))\n",
    "        for i in indeces:\n",
    "            subgroup_generators.append(generator+f\"_{i}\")\n",
    "    return [subgroup_generators, relation_string(relation_prime)]"
   ]
  },
  {
   "cell_type": "code",
   "execution_count": null,
   "metadata": {},
   "outputs": [],
   "source": [
    "#Magnus Breakdown-one iteration\n",
    "#input generators as a list, relation as a string\n",
    "def magnus_breakdown(generators,relation):\n",
    "    for generator in generators:\n",
    "        if exponent_sum(generator,relation_adjustment(relation))==0:\n",
    "            zero_generator=generator\n",
    "            relation_temp=remove_exp_zero(zero_generator,relation_adjustment(relation))\n",
    "            relation_temp=relation_prime(zero_generator,relation_temp)\n",
    "        \n",
    "    return subgroup_pres(relation_temp)"
   ]
  },
  {
   "cell_type": "code",
   "execution_count": 1,
   "metadata": {},
   "outputs": [],
   "source": [
    "############################################################\n",
    "############################################################\n",
    "############################################################\n",
    "############################################################\n",
    "############################################################"
   ]
  },
  {
   "cell_type": "code",
   "execution_count": 2,
   "metadata": {},
   "outputs": [],
   "source": [
    "class Syllable:\n",
    "    def __init__(self, letter, subscript, exponent):\n",
    "        self.ltr = letter    # string\n",
    "        self.sub = subscript # int or empty string\n",
    "        self.exp = exponent  # int\n",
    "        \n",
    "    def __str__(self):\n",
    "        string = self.ltr\n",
    "        if self.sub != \"\":\n",
    "            string = string + \"_{\" + str(self.sub) + \"}\"\n",
    "        if self.exp != 1:\n",
    "            string = string + \"^{\" + str(self.exp) + \"}\"\n",
    "        return string\n",
    "    \n",
    "    def inverse(self):\n",
    "        new_exp = -self.exp\n",
    "        return Syllable(self.ltr, self.sub, new_exp)\n",
    "    \n",
    "    def add_subscript(self, new_subscript): # Moves old subscript into letter\n",
    "        if self.sub == \"\":\n",
    "            return Syllable(self.ltr, new_subscript, self.exp)\n",
    "        else:\n",
    "            new_ltr = self.ltr + \"_{\" + str(self.sub) + \"}\"\n",
    "            return Syllable(new_ltr, new_subscript, self.exp)\n",
    "        \n",
    "    def no_exp(self):\n",
    "        return Syllable(self.ltr, self.sub, 1)"
   ]
  },
  {
   "cell_type": "code",
   "execution_count": 3,
   "metadata": {},
   "outputs": [
    {
     "name": "stdout",
     "output_type": "stream",
     "text": [
      "a^{2}\n",
      "s        = a_{-3}^{2}\n",
      "s^-1     = a_{-3}^{-2}\n",
      "s is still a_{-3}^{2}\n",
      "s_5      = a_{-3}_{5}^{2}\n",
      "s is still a_{-3}^{2}\n"
     ]
    }
   ],
   "source": [
    "print(Syllable(\"a\",\"\",2))\n",
    "s = Syllable(\"a\",-3,2)\n",
    "print(\"s        = \" + str(s))\n",
    "print(\"s^-1     = \" + str(s.inverse()))\n",
    "print(\"s is still \" + str(s))\n",
    "s_5 = s.add_subscript(5)\n",
    "print(\"s_5      = \" + str(s_5))\n",
    "print(\"s is still \" + str(s))"
   ]
  },
  {
   "cell_type": "code",
   "execution_count": 4,
   "metadata": {},
   "outputs": [],
   "source": [
    "def str_to_syllable(string):\n",
    "    letter = string[0]\n",
    "    \n",
    "    if \"_\" not in string: # e.g., a^5\n",
    "        subscript = \"\"\n",
    "    else:\n",
    "        rest = string[string.index(\"_\")+1:]\n",
    "        if \"^\" in rest: # e.g., a_5^3\n",
    "            subscript_str = rest[:rest.index(\"^\")]\n",
    "        else: # e.g., a^3_5\n",
    "            subscript_str = rest\n",
    "        subscript = int(subscript_str.replace(\"{\",\"\").replace(\"}\",\"\"))\n",
    "    \n",
    "    if \"^\" not in string: # e.g., b_2\n",
    "        exponent = 1\n",
    "    else:\n",
    "        rest = string[string.index(\"^\")+1:]\n",
    "        if \"_\" in rest: # e.g., b^7_2\n",
    "            exponent_str = rest[:rest.index(\"_\")]\n",
    "        else: # e.g., b_2^7\n",
    "            exponent_str = rest\n",
    "        exponent = int(exponent_str.replace(\"{\",\"\").replace(\"}\",\"\"))\n",
    "    \n",
    "    return Syllable(letter, subscript, exponent)"
   ]
  },
  {
   "cell_type": "code",
   "execution_count": 5,
   "metadata": {
    "scrolled": false
   },
   "outputs": [
    {
     "name": "stdout",
     "output_type": "stream",
     "text": [
      "a_{100}^{5}\n",
      "a_{100}^{5}\n",
      "a^{5}\n",
      "a_{100}\n",
      "a\n"
     ]
    }
   ],
   "source": [
    "print(str_to_syllable(\"a_100^5\"))\n",
    "print(str_to_syllable(\"a^{5}_100\"))\n",
    "print(str_to_syllable(\"a^5\"))\n",
    "print(str_to_syllable(\"a_{100}\"))\n",
    "print(str_to_syllable(\"a\"))"
   ]
  },
  {
   "cell_type": "code",
   "execution_count": 6,
   "metadata": {},
   "outputs": [],
   "source": [
    "# A \"word\" is a list of syllables.\n",
    "def str_to_word(string):\n",
    "    string = string.replace(\" \",\"\")\n",
    "    syllables = []\n",
    "    syl_str = \"\"\n",
    "    \n",
    "    for i in range(len(string)):\n",
    "        if not string[i].isalpha():\n",
    "            syl_str = syl_str + string[i]\n",
    "        else:\n",
    "            if syl_str != \"\":\n",
    "                syllables.append(str_to_syllable(syl_str))\n",
    "            syl_str = string[i]\n",
    "            \n",
    "    syllables.append(str_to_syllable(syl_str))\n",
    "    return(syllables)\n",
    "\n",
    "def word_to_str(word):\n",
    "    return \" \".join([str(syllable) for syllable in word])"
   ]
  },
  {
   "cell_type": "code",
   "execution_count": 7,
   "metadata": {},
   "outputs": [
    {
     "name": "stdout",
     "output_type": "stream",
     "text": [
      "a b c\n",
      "a^{2} b_{100} c^{-1}\n",
      "a\n",
      "a a\n"
     ]
    }
   ],
   "source": [
    "print(word_to_str(str_to_word(\"abc\")))\n",
    "print(word_to_str(str_to_word(\"a^2 b_100c^-1\")))\n",
    "print(word_to_str(str_to_word(\"a\")))\n",
    "print(word_to_str(str_to_word(\"aa\")))"
   ]
  },
  {
   "cell_type": "code",
   "execution_count": 8,
   "metadata": {},
   "outputs": [],
   "source": [
    "def reduce_word(syllables): # e.g., abaaa^-5 -> aba^-3\n",
    "    i = 0\n",
    "    while i < len(syllables)-1:\n",
    "        s1 = syllables[i]\n",
    "        s2 = syllables[i+1]\n",
    "        if s1.ltr == s2.ltr and s1.sub == s2.sub:\n",
    "            s1.exp = s1.exp + s2.exp\n",
    "            syllables[i] = s1\n",
    "            syllables.remove(s2)\n",
    "        else:\n",
    "            i = i+1\n",
    "    return(syllables)\n",
    "\n",
    "def invert_word(syllables): # e.g., a^2bc -> c^-1 b^-1 a^-2\n",
    "    return [syl.inverse() for syl in list(reversed(syllables))]"
   ]
  },
  {
   "cell_type": "code",
   "execution_count": 9,
   "metadata": {},
   "outputs": [
    {
     "name": "stdout",
     "output_type": "stream",
     "text": [
      "a^{4} b_{1}^{2} b_{2}\n",
      "b_{2}^{-1} b_{1}^{-2} a^{-4}\n"
     ]
    }
   ],
   "source": [
    "w = str_to_word(\"aa a^2 a^-1 ab_1 b_1b_2\")\n",
    "w = reduce_word(w)\n",
    "print(word_to_str(w))\n",
    "w_inverse = invert_word(w)\n",
    "print(word_to_str(w_inverse))"
   ]
  },
  {
   "cell_type": "code",
   "execution_count": 10,
   "metadata": {},
   "outputs": [],
   "source": [
    "def exponent_sumNEW(generator,relation):\n",
    "    return sum([syl.exp for syl in relation\n",
    "                if generator.ltr == syl.ltr and generator.sub == syl.sub])"
   ]
  },
  {
   "cell_type": "code",
   "execution_count": 11,
   "metadata": {},
   "outputs": [
    {
     "name": "stdout",
     "output_type": "stream",
     "text": [
      "-17\n",
      "3\n"
     ]
    }
   ],
   "source": [
    "print(exponent_sumNEW(str_to_syllable(\"a\"),  str_to_word(\"a^2 b_100 a c^-1 a_0 a^-20\")))\n",
    "print(exponent_sumNEW(str_to_syllable(\"a_0\"),str_to_word(\"a^2 b_100 a c^-1 a_0 a^-20 a^2_0\")))"
   ]
  },
  {
   "cell_type": "code",
   "execution_count": 12,
   "metadata": {},
   "outputs": [],
   "source": [
    "#Here we rewrite relation so that the generator with exponent sum=0 is not in the first position\n",
    "#relation and generators are already adjusted\n",
    "def remove_exp_zeroNEW(zero_generator,relation):\n",
    "    syl = relation[0]\n",
    "    if zero_generator.ltr == syl.ltr and zero_generator.sub == syl.sub:\n",
    "        return relation[1:] + [syl.inverse()]\n",
    "    else:\n",
    "        return relation"
   ]
  },
  {
   "cell_type": "code",
   "execution_count": 13,
   "metadata": {
    "scrolled": true
   },
   "outputs": [
    {
     "name": "stdout",
     "output_type": "stream",
     "text": [
      "b c_{3} a_{3}\n",
      "b c_{3}\n",
      "b a_{3} c_{3} a_{3}^{-1}\n"
     ]
    }
   ],
   "source": [
    "print(word_to_str(remove_exp_zeroNEW(str_to_syllable(\"a_3\"), str_to_word(\"a^-1_3 b c_3\"))))\n",
    "print(word_to_str(remove_exp_zeroNEW(str_to_syllable(\"a_3\"), str_to_word(\"b c_3\"))))\n",
    "print(word_to_str(remove_exp_zeroNEW(str_to_syllable(\"a_3\"), str_to_word(\"a_3 b a_3 c_3\"))))"
   ]
  },
  {
   "cell_type": "code",
   "execution_count": 14,
   "metadata": {},
   "outputs": [],
   "source": [
    "def relation_primeNEW(zero_generator,relation):\n",
    "    new_relation = [relation[0].add_subscript(0)]\n",
    "    i = 1\n",
    "    while i < len(relation):\n",
    "        if relation[i].ltr != zero_generator.ltr:\n",
    "            subscript = -exponent_sumNEW(zero_generator, relation[:i])\n",
    "            syl = relation[i].add_subscript(subscript)\n",
    "            new_relation.append(syl)\n",
    "        i = i+1\n",
    "    return(new_relation)"
   ]
  },
  {
   "cell_type": "code",
   "execution_count": 15,
   "metadata": {},
   "outputs": [
    {
     "name": "stdout",
     "output_type": "stream",
     "text": [
      "b a c b^{2} a^{-3} c^{3} a^{2}\n",
      "b_{0} c_{-1} b_{-1}^{2} c_{2}^{3}\n"
     ]
    }
   ],
   "source": [
    "r = str_to_word(\"b a c b^2 a^{-3} c^3 a^2\")\n",
    "print(word_to_str(r))\n",
    "r_prime = relation_primeNEW(Syllable(\"a\",\"\",1), r)\n",
    "print(word_to_str(r_prime))"
   ]
  },
  {
   "cell_type": "code",
   "execution_count": 16,
   "metadata": {},
   "outputs": [],
   "source": [
    "def smallest_subscriptNEW(letter,relation):\n",
    "    return min([syl.sub for syl in relation if syl.ltr == letter])\n",
    "\n",
    "def largest_subscriptNEW(letter,relation):\n",
    "    return max([syl.sub for syl in relation if syl.ltr == letter])"
   ]
  },
  {
   "cell_type": "code",
   "execution_count": 17,
   "metadata": {},
   "outputs": [
    {
     "name": "stdout",
     "output_type": "stream",
     "text": [
      "-1\n",
      "-1\n",
      "w = a_0_{-100} b_{-7}^{9} a_0_{-20}^{99}\n",
      "-100\n",
      "0\n",
      "2\n",
      "-20\n"
     ]
    }
   ],
   "source": [
    "print(smallest_subscriptNEW(\"b\", r_prime))\n",
    "print(smallest_subscriptNEW(\"c\", r_prime))\n",
    "\n",
    "w = [Syllable(\"a_0\",-100,1), Syllable(\"b\",-7,9), Syllable(\"a_0\",-20,99)]\n",
    "print(\"w = \" + word_to_str(w))\n",
    "print(smallest_subscriptNEW(\"a_0\", w))\n",
    "\n",
    "print(largest_subscriptNEW(\"b\", r_prime))\n",
    "print(largest_subscriptNEW(\"c\", r_prime))\n",
    "print(largest_subscriptNEW(\"a_0\", w))"
   ]
  },
  {
   "cell_type": "code",
   "execution_count": 18,
   "metadata": {},
   "outputs": [],
   "source": [
    "class Group:\n",
    "    def __init__(self, generators, relations):\n",
    "        self.gens = generators # list of syllables\n",
    "        self.rels = relations  # list of words\n",
    "        \n",
    "    def __str__(self):\n",
    "        gens_str = \", \".join([str(g) for g in self.gens])\n",
    "        rels_str = \", \".join([word_to_str(r) for r in self.rels])\n",
    "        return \"<\" + gens_str + \" | \"  + rels_str + \">\""
   ]
  },
  {
   "cell_type": "code",
   "execution_count": 19,
   "metadata": {},
   "outputs": [],
   "source": [
    "def str_to_group(string):\n",
    "    string = string.replace(\"<\",\"\").replace(\">\",\"\").replace(\"\\\\langle\",\"\").replace(\"\\\\rangle\",\"\").replace(\" \",\"\")\n",
    "    \n",
    "    divider = \"\\\\mid\" if \"\\\\mid\" in string else \"|\"\n",
    "    \n",
    "    generators_string = string[:string.index(divider)]\n",
    "    generators = [str_to_syllable(s) for s in generators_string.split(\",\")]\n",
    "\n",
    "    relations_string = string[string.index(divider)+len(divider):]\n",
    "    strings = relations_string.split(\",\")\n",
    "    relations = []\n",
    "    for s in strings:\n",
    "        if \"=\" not in s: # e.g., xyx^{-1}y^{-1}\n",
    "            relations.append(str_to_word(s))\n",
    "        else: # e.g., xy=yx or xyx^-1=1\n",
    "            left = s[:s.index(\"=\")]\n",
    "            left_word = str_to_word(left)\n",
    "            \n",
    "            right = s[s.index(\"=\")+1:]\n",
    "            right_word = str_to_word(right)\n",
    "            \n",
    "            if left == \"1\":\n",
    "                relations.append(right_word)\n",
    "            elif right == \"1\":\n",
    "                relations.append(left_word)\n",
    "            else:\n",
    "                left_word.extend(invert_word(right_word))\n",
    "                relations.append(left_word)\n",
    "    \n",
    "    return Group(generators, relations)"
   ]
  },
  {
   "cell_type": "code",
   "execution_count": 20,
   "metadata": {},
   "outputs": [
    {
     "name": "stdout",
     "output_type": "stream",
     "text": [
      "<a, b, c | b a c b^{2} a^{-3} c^{3} a^{2}>\n",
      "<a, b, c, q | b a c b^{2} a^{-3} c^{3} a^{2}, a^{100}>\n",
      "<x, y, a, b | x y x^{-1} y^{-1}, a^{2}, b^{100}, x y x^{-1}>\n"
     ]
    }
   ],
   "source": [
    "print(str_to_group(\"<a, b, c | b a c b^{2} a^{-3} c^{3} a^{2}>\"))\n",
    "print(str_to_group(\"\\\\langle a,b,c,q \\\\mid bac b^{2}   a^{-3} c^{3} a^{2},a^100 \\\\rangle\"))\n",
    "print(str_to_group(\"<x,y,a,b|xy=yx, a^2, b^100=1, 1=xyx^-1>\"))"
   ]
  },
  {
   "cell_type": "code",
   "execution_count": 21,
   "metadata": {},
   "outputs": [],
   "source": [
    "#Magnus Breakdown - one iteration\n",
    "def magnus_one_step(group):\n",
    "    generators = group.gens\n",
    "    relation = group.rels[0]\n",
    "    \n",
    "    # Find a generator with exponent sum 0.\n",
    "    for generator in generators:\n",
    "        if exponent_sumNEW(generator, relation)==0:\n",
    "            zero_generator = generator\n",
    "            break\n",
    "    else:\n",
    "        # magnus_case2\n",
    "        pass\n",
    "    \n",
    "    return magnus_case1(zero_generator, relation)\n",
    "\n",
    "def magnus_case1(zero_generator, relation):\n",
    "    relation_shifted = remove_exp_zeroNEW(zero_generator, relation)\n",
    "    relation_prime = relation_primeNEW(zero_generator, relation_shifted)\n",
    "\n",
    "    letters = {syl.ltr for syl in relation_prime}\n",
    "    new_generators = []\n",
    "    for letter in letters:\n",
    "        l_subscript = largest_subscriptNEW(letter,relation_prime)\n",
    "        s_subscript = smallest_subscriptNEW(letter,relation_prime)\n",
    "        for i in range(s_subscript, l_subscript+1):\n",
    "            new_generators.append(Syllable(letter, i, 1))\n",
    "            \n",
    "    return Group(new_generators, [relation_prime])"
   ]
  },
  {
   "cell_type": "code",
   "execution_count": 22,
   "metadata": {
    "scrolled": true
   },
   "outputs": [
    {
     "name": "stdout",
     "output_type": "stream",
     "text": [
      "<a, b, c | b a c b^{2} a^{-3} c^{3} a^{2}>\n",
      "<b_{-1}, b_{0}, c_{-1}, c_{0}, c_{1}, c_{2} | b_{0} c_{-1} b_{-1}^{2} c_{2}^{3}>\n"
     ]
    }
   ],
   "source": [
    "G = str_to_group(\"<a, b, c | b a c b^{2} a^{-3} c^{3} a^{2}>\")\n",
    "print(G)\n",
    "H = magnus_one_step(G)\n",
    "print(H)"
   ]
  },
  {
   "cell_type": "code",
   "execution_count": 23,
   "metadata": {},
   "outputs": [
    {
     "name": "stdout",
     "output_type": "stream",
     "text": [
      "<a, b | a b^{10} a b^{-7} a b^{-3}>\n",
      "<a_{-10}, a_{-9}, a_{-8}, a_{-7}, a_{-6}, a_{-5}, a_{-4}, a_{-3}, a_{-2}, a_{-1}, a_{0} | a_{0} a_{-10} a_{-3}>\n"
     ]
    }
   ],
   "source": [
    "G = str_to_group(\"<a,b|ab^10 ab^{-7} ab^{-3}>\")\n",
    "print(G)\n",
    "H = magnus_one_step(G)\n",
    "print(H)"
   ]
  },
  {
   "cell_type": "code",
   "execution_count": 24,
   "metadata": {},
   "outputs": [],
   "source": [
    "def get_two_letters(used_letters):\n",
    "    available_letters = list(string.ascii_lowercase)\n",
    "    greek_letters = [\"alpha\",\"beta\",\"gamma\",\"delta\",\"epsilon\",\"zeta\",\"eta\",\"theta\",\"iota\",\"kappa\",\n",
    "                     \"lambda\",\"mu\",\"nu\",\"xi\",\"pi\",\"rho\",\"tau\",\"phi\",\"chi\",\"psi\",\"omega\"]\n",
    "    available_letters.extend(greek_letters)\n",
    "    for letter in used_letters:\n",
    "        available_letters.remove(letter)\n",
    "    return available_letters[:2]"
   ]
  },
  {
   "cell_type": "code",
   "execution_count": 25,
   "metadata": {},
   "outputs": [
    {
     "ename": "NameError",
     "evalue": "name 'string' is not defined",
     "output_type": "error",
     "traceback": [
      "\u001b[0;31m---------------------------------------------------------------------------\u001b[0m",
      "\u001b[0;31mNameError\u001b[0m                                 Traceback (most recent call last)",
      "\u001b[0;32m<ipython-input-25-f9cccd84d2fa>\u001b[0m in \u001b[0;36m<module>\u001b[0;34m\u001b[0m\n\u001b[0;32m----> 1\u001b[0;31m \u001b[0mget_two_letters\u001b[0m\u001b[0;34m(\u001b[0m\u001b[0;34m\"abcdxyzf\"\u001b[0m\u001b[0;34m)\u001b[0m\u001b[0;34m\u001b[0m\u001b[0;34m\u001b[0m\u001b[0m\n\u001b[0m",
      "\u001b[0;32m<ipython-input-24-eb6bfe10f546>\u001b[0m in \u001b[0;36mget_two_letters\u001b[0;34m(used_letters)\u001b[0m\n\u001b[1;32m      1\u001b[0m \u001b[0;32mdef\u001b[0m \u001b[0mget_two_letters\u001b[0m\u001b[0;34m(\u001b[0m\u001b[0mused_letters\u001b[0m\u001b[0;34m)\u001b[0m\u001b[0;34m:\u001b[0m\u001b[0;34m\u001b[0m\u001b[0;34m\u001b[0m\u001b[0m\n\u001b[0;32m----> 2\u001b[0;31m     \u001b[0mavailable_letters\u001b[0m \u001b[0;34m=\u001b[0m \u001b[0mlist\u001b[0m\u001b[0;34m(\u001b[0m\u001b[0mstring\u001b[0m\u001b[0;34m.\u001b[0m\u001b[0mascii_lowercase\u001b[0m\u001b[0;34m)\u001b[0m\u001b[0;34m\u001b[0m\u001b[0;34m\u001b[0m\u001b[0m\n\u001b[0m\u001b[1;32m      3\u001b[0m     greek_letters = [\"alpha\",\"beta\",\"gamma\",\"delta\",\"epsilon\",\"zeta\",\"eta\",\"theta\",\"iota\",\"kappa\",\n\u001b[1;32m      4\u001b[0m                      \"lambda\",\"mu\",\"nu\",\"xi\",\"pi\",\"rho\",\"tau\",\"phi\",\"chi\",\"psi\",\"omega\"]\n\u001b[1;32m      5\u001b[0m     \u001b[0mavailable_letters\u001b[0m\u001b[0;34m.\u001b[0m\u001b[0mextend\u001b[0m\u001b[0;34m(\u001b[0m\u001b[0mgreek_letters\u001b[0m\u001b[0;34m)\u001b[0m\u001b[0;34m\u001b[0m\u001b[0;34m\u001b[0m\u001b[0m\n",
      "\u001b[0;31mNameError\u001b[0m: name 'string' is not defined"
     ]
    }
   ],
   "source": [
    "get_two_letters(\"abcdxyzf\")"
   ]
  },
  {
   "cell_type": "code",
   "execution_count": 26,
   "metadata": {},
   "outputs": [],
   "source": [
    "def magnus_case2(group):\n",
    "    gen0 = generators[0]\n",
    "    gen1 = generators[1]\n",
    "        \n",
    "    exp_sum0 = exponent_sumNEW(gen0,relation)\n",
    "    exp_sum1 = exponent_sumNEW(gen1,relation)\n",
    "        \n",
    "    used_letters = {gen.ltr[:gen.index(\"_\")] for gen in generators}\n",
    "    letter0, letter1 = get_two_letters(used_letters)\n",
    "    \n",
    "    replacement0 = [Syllable(letter1, \"\", 1), Syllable(letter0, \"\", -exp_sum1)]\n",
    "    replacement1 = [Syllable(letter0, \"\", exp_sum0)]\n",
    "        \n",
    "    for i in range(len(relation)):\n",
    "        if relation[i] == gen0:\n",
    "            relation = relation[:i] + replacement0 + relation[i+1:]\n",
    "        elif relation[i] == gen1:\n",
    "            relation = relation[:i] + replacement1 + relation[i+1:]\n",
    "            \n",
    "    # unfinished"
   ]
  }
 ],
 "metadata": {
  "kernelspec": {
   "display_name": "Python 3",
   "language": "python",
   "name": "python3"
  },
  "language_info": {
   "codemirror_mode": {
    "name": "ipython",
    "version": 3
   },
   "file_extension": ".py",
   "mimetype": "text/x-python",
   "name": "python",
   "nbconvert_exporter": "python",
   "pygments_lexer": "ipython3",
   "version": "3.7.6"
  }
 },
 "nbformat": 4,
 "nbformat_minor": 2
}
