{
 "cells": [
  {
   "cell_type": "code",
   "execution_count": 1,
   "metadata": {},
   "outputs": [],
   "source": [
    "import string"
   ]
  },
  {
   "cell_type": "code",
   "execution_count": 2,
   "metadata": {},
   "outputs": [],
   "source": [
    "def get_new_letters(used_letters, num_letters, preferred_letters=[]):\n",
    "    available_letters = list(string.ascii_lowercase)\n",
    "    available_letters.remove(\"i\")\n",
    "    available_letters.remove(\"j\")\n",
    "    greek_letters = [\"alpha\",\"beta\",\"gamma\",\"delta\",\"epsilon\",\"zeta\",\"eta\",\"theta\",\"iota\",\"kappa\",\n",
    "                     \"lambda\",\"mu\",\"nu\",\"xi\",\"pi\",\"rho\",\"tau\",\"phi\",\"chi\",\"psi\",\"omega\"]\n",
    "    for letter in greek_letters:\n",
    "        letter = \"\\\\\" + letter\n",
    "    available_letters.extend(greek_letters)\n",
    "    \n",
    "    for letter in used_letters:\n",
    "        available_letters.remove(letter)\n",
    "        \n",
    "    for letter in reversed(preferred_letters):\n",
    "        if letter in available_letters:\n",
    "            available_letters.remove(letter)\n",
    "            available_letters.insert(0, letter)\n",
    "    \n",
    "    return available_letters[:num_letters]"
   ]
  },
  {
   "cell_type": "code",
   "execution_count": 3,
   "metadata": {},
   "outputs": [
    {
     "name": "stdout",
     "output_type": "stream",
     "text": [
      "['e', 'g']\n",
      "['e']\n",
      "['t', 'e', 'g', 'h']\n"
     ]
    }
   ],
   "source": [
    "print(get_new_letters(\"abcdxyzf\",2))\n",
    "print(get_new_letters(\"abcdxyzf\",1))\n",
    "print(get_new_letters(\"abcdxyzf\",4,[\"t\"]))"
   ]
  },
  {
   "cell_type": "code",
   "execution_count": 4,
   "metadata": {},
   "outputs": [],
   "source": [
    "class Syllable:\n",
    "    def __init__(self, letter, subscript, exponent):\n",
    "        self.ltr = letter    # string\n",
    "        self.sub = subscript # int or empty string\n",
    "        self.exp = exponent  # int\n",
    "        \n",
    "    def __str__(self):\n",
    "        string = str(self.ltr)\n",
    "        if self.sub != \"\":\n",
    "            string = string + \"_{\" + str(self.sub) + \"}\"\n",
    "        if self.exp != 1:\n",
    "            string = string + \"^{\" + str(self.exp) + \"}\"\n",
    "        return string\n",
    "    \n",
    "    def __eq__(self, other):\n",
    "        if not isinstance(other, Syllable):\n",
    "            return False\n",
    "        return self.ltr == other.ltr and self.sub == other.sub and self.exp == other.exp\n",
    "    \n",
    "    def inverse(self):\n",
    "        new_exp = -self.exp\n",
    "        return Syllable(self.ltr, self.sub, new_exp)\n",
    "    \n",
    "    def add_subscript(self, new_subscript): # Moves old subscript into letter\n",
    "        if self.sub == \"\":\n",
    "            return Syllable(self.ltr, new_subscript, self.exp)\n",
    "        else:\n",
    "            new_ltr = self.ltr + \"_{\" + str(self.sub) + \"}\"\n",
    "            return Syllable(new_ltr, new_subscript, self.exp)\n",
    "        \n",
    "    def base(self):\n",
    "        return Syllable(self.ltr, self.sub, 1)"
   ]
  },
  {
   "cell_type": "code",
   "execution_count": 5,
   "metadata": {},
   "outputs": [
    {
     "name": "stdout",
     "output_type": "stream",
     "text": [
      "a^{2}\n",
      "s        = a_{-3}^{2}\n",
      "s^-1     = a_{-3}^{-2}\n",
      "s is still a_{-3}^{2}\n",
      "s_5      = a_{-3}_{5}^{2}\n",
      "s is still a_{-3}^{2}\n",
      "True\n"
     ]
    }
   ],
   "source": [
    "print(Syllable(\"a\",\"\",2))\n",
    "s = Syllable(\"a\",-3,2)\n",
    "print(\"s        = \" + str(s))\n",
    "print(\"s^-1     = \" + str(s.inverse()))\n",
    "print(\"s is still \" + str(s))\n",
    "s_5 = s.add_subscript(5)\n",
    "print(\"s_5      = \" + str(s_5))\n",
    "print(\"s is still \" + str(s))\n",
    "t = Syllable(\"a\",-3,2)\n",
    "print(str(s == t))"
   ]
  },
  {
   "cell_type": "code",
   "execution_count": 6,
   "metadata": {},
   "outputs": [],
   "source": [
    "def str_to_syllable(string):\n",
    "    letter = string[0]\n",
    "    \n",
    "    if \"_\" not in string: # e.g., a^5\n",
    "        subscript = \"\"\n",
    "    else:\n",
    "        rest = string[string.index(\"_\")+1:]\n",
    "        if \"^\" in rest: # e.g., a_5^3\n",
    "            subscript_str = rest[:rest.index(\"^\")]\n",
    "        else: # e.g., a^3_5\n",
    "            subscript_str = rest\n",
    "        subscript = int(subscript_str.replace(\"{\",\"\").replace(\"}\",\"\"))\n",
    "    \n",
    "    if \"^\" not in string: # e.g., b_2\n",
    "        exponent = 1\n",
    "    else:\n",
    "        rest = string[string.index(\"^\")+1:]\n",
    "        if \"_\" in rest: # e.g., b^7_2\n",
    "            exponent_str = rest[:rest.index(\"_\")]\n",
    "        else: # e.g., b_2^7\n",
    "            exponent_str = rest\n",
    "        exponent = int(exponent_str.replace(\"{\",\"\").replace(\"}\",\"\"))\n",
    "    \n",
    "    return Syllable(letter, subscript, exponent)"
   ]
  },
  {
   "cell_type": "code",
   "execution_count": 7,
   "metadata": {},
   "outputs": [],
   "source": [
    "def reduce_word(word): # e.g., abaaa^-5 -> aba^-3\n",
    "    syllables = word.copy()\n",
    "    i = 0\n",
    "    while i < len(syllables)-1:\n",
    "        s1 = syllables[i]\n",
    "        s2 = syllables[i+1]\n",
    "        if s1.ltr == s2.ltr and s1.sub == s2.sub:\n",
    "            exp = s1.exp + s2.exp\n",
    "            if exp !=0:\n",
    "                product = Syllable(s1.ltr, s1.sub, exp)\n",
    "                syllables = syllables[:i] + [product] + syllables[i+2:]\n",
    "            else:\n",
    "                syllables = syllables[:i] + syllables[i+2:]\n",
    "        else:\n",
    "            i = i+1\n",
    "    return(syllables)\n",
    "\n",
    "def invert_word(syllables): # e.g., a^2bc -> c^-1 b^-1 a^-2\n",
    "    return [syl.inverse() for syl in list(reversed(syllables))]"
   ]
  },
  {
   "cell_type": "code",
   "execution_count": 8,
   "metadata": {},
   "outputs": [],
   "source": [
    "def reverse_substr(substr): # a^3b_0 --> b_0a^3\n",
    "    pieces = []\n",
    "    piece = \"\"\n",
    "    for i in range(len(substr)):\n",
    "        if not substr[i].isalpha():\n",
    "            piece = piece + substr[i]\n",
    "            if substr[i] == \"^\":\n",
    "                piece = piece + \"-\"\n",
    "        else:\n",
    "            if piece != \"\":\n",
    "                pieces.append(piece)\n",
    "            piece = substr[i]\n",
    "    pieces.append(piece)\n",
    "    pieces.reverse()\n",
    "    return \"\".join(pieces)"
   ]
  },
  {
   "cell_type": "code",
   "execution_count": 9,
   "metadata": {},
   "outputs": [],
   "source": [
    "# A \"word\" is a list of syllables.\n",
    "def str_to_word(string):\n",
    "    string = string.replace(\" \",\"\").replace(\"{\",\"\").replace(\"}\",\"\")\n",
    "    \n",
    "    #Expands commutators\n",
    "    while \"]\" in string:\n",
    "        end_comm_index = string.index(\"]\")\n",
    "        start_comm_index = string[:end_comm_index].rfind(\"[\")\n",
    "        comma_index=string[:end_comm_index].rfind(\",\")\n",
    "        first_arg_substr=string[start_comm_index+1:comma_index]\n",
    "        second_arg_substr=string[comma_index+1:end_comm_index]\n",
    "       \n",
    "        string=(string[:start_comm_index]\n",
    "                + \"(\"\n",
    "                + word_to_str(invert_word(str_to_word(first_arg_substr)))\n",
    "                + word_to_str(invert_word(str_to_word(second_arg_substr)))\n",
    "                + first_arg_substr\n",
    "                + second_arg_substr\n",
    "                + \")\"\n",
    "                + string[end_comm_index+1:])\n",
    "    \n",
    "       \n",
    "    \n",
    "    # Replace any substrings in parentheses like (abc)^2 with the\n",
    "    # substring repeated the right number of times, like abcabc\n",
    "    while \")\" in string:\n",
    "        end_index = string.index(\")\")\n",
    "        start_index = string[:end_index].rfind(\"(\")\n",
    "        substr = string[start_index+1:end_index]\n",
    "        \n",
    "        \n",
    "        # If the substring in parentheses isn't followed by an exponent\n",
    "        if end_index == len(string)-1 or string[end_index+1] != \"^\":\n",
    "            string = string[:start_index] + substr + string[end_index+1:]\n",
    "            continue\n",
    "        \n",
    "        exp = \"\"\n",
    "        exp_index = end_index+2\n",
    "        for i in range(end_index+2, len(string)):\n",
    "            if string[i].isnumeric() or string[i] == \"-\":\n",
    "                exp = exp + string[i]\n",
    "                exp_index = exp_index + 1\n",
    "            else:\n",
    "                break\n",
    "        exp = int(exp)\n",
    "        if exp >= 0:\n",
    "            repeated_substr = substr * exp\n",
    "        else:\n",
    "            inverted_substr = word_to_str(invert_word(str_to_word(substr)))\n",
    "            inverted_substr = inverted_substr.replace(\" \",\"\")\n",
    "            repeated_substr = inverted_substr * -exp\n",
    "        string = string[:start_index] + repeated_substr + string[exp_index:]\n",
    "        \n",
    "    \n",
    "    # Cut string into syllables\n",
    "    syllables = []\n",
    "    syl_str = \"\"\n",
    "    for i in range(len(string)):\n",
    "        if not string[i].isalpha():\n",
    "            syl_str = syl_str + string[i]\n",
    "        else:\n",
    "            if syl_str != \"\":\n",
    "                syllables.append(str_to_syllable(syl_str))\n",
    "            syl_str = string[i]\n",
    "            \n",
    "    syllables.append(str_to_syllable(syl_str))\n",
    "    return(syllables)\n",
    "\n",
    "def word_to_str(word):\n",
    "    if word == []:\n",
    "        return \"1\"\n",
    "    else:\n",
    "        return \" \".join([str(syllable) for syllable in word])"
   ]
  },
  {
   "cell_type": "code",
   "execution_count": 10,
   "metadata": {},
   "outputs": [
    {
     "name": "stdout",
     "output_type": "stream",
     "text": [
      "a^{-1} y^{-1} b^{-1} a b y\n",
      "a^{2} b_{100} c^{-1}\n",
      "a\n",
      "a c_{99}^{-1} b^{3} c_{99}^{-1} b^{3} a c_{99}^{-1} b^{3} c_{99}^{-1} b^{3} a\n",
      "a c_{99}^{-1} b^{3} c_{99}^{-1} b^{3} a c_{99}^{-1} b^{3} c_{99}^{-1} b^{3} a\n",
      "b^{3} a^{-1} b^{-3} a x^{-1} b^{3} a^{-1} b^{-3} a x^{-1} y^{-1} x a^{-1} b^{3} a b^{-3} x a^{-1} b^{3} a b^{-3} y\n"
     ]
    }
   ],
   "source": [
    "print(word_to_str(str_to_word(\"[a,by]\")))\n",
    "print(word_to_str(str_to_word(\"a^2 b_100c^-1\")))\n",
    "print(word_to_str(str_to_word(\"a\")))\n",
    "print(word_to_str(str_to_word(\"(a((b^-3c_99)^-2   a   )^2)\")))\n",
    "print(word_to_str(str_to_word(\"(a((b^-3c_99)^-2(((a))))^2)\")))\n",
    "print(word_to_str(str_to_word(\"[(x[a,b^-3])^2,y]\")))"
   ]
  },
  {
   "cell_type": "code",
   "execution_count": 11,
   "metadata": {},
   "outputs": [
    {
     "name": "stdout",
     "output_type": "stream",
     "text": [
      "a^{4} b_{1}^{2} b_{2}\n",
      "b_{2}^{-1} b_{1}^{-2} a^{-4}\n"
     ]
    }
   ],
   "source": [
    "w = str_to_word(\"aa a^2 a^-1 ab_1 b_1b_2\")\n",
    "w = reduce_word(w)\n",
    "print(word_to_str(w))\n",
    "w_inverse = invert_word(w)\n",
    "print(word_to_str(w_inverse))"
   ]
  },
  {
   "cell_type": "code",
   "execution_count": 12,
   "metadata": {},
   "outputs": [
    {
     "name": "stdout",
     "output_type": "stream",
     "text": [
      "w = e e e^{-2}\n",
      "v = 1\n"
     ]
    }
   ],
   "source": [
    "w = str_to_word(\"e e e^-2\")\n",
    "print(\"w = \"+word_to_str(w))\n",
    "v = reduce_word(w)\n",
    "print(\"v = \"+word_to_str(v))"
   ]
  },
  {
   "cell_type": "code",
   "execution_count": 13,
   "metadata": {},
   "outputs": [],
   "source": [
    "def exponent_sum(generator,relation):\n",
    "    return sum([syl.exp for syl in relation\n",
    "                if generator.ltr == syl.ltr and generator.sub == syl.sub])"
   ]
  },
  {
   "cell_type": "code",
   "execution_count": 14,
   "metadata": {},
   "outputs": [
    {
     "name": "stdout",
     "output_type": "stream",
     "text": [
      "-17\n",
      "3\n"
     ]
    }
   ],
   "source": [
    "print(exponent_sum(str_to_syllable(\"a\"),  str_to_word(\"a^2 b_100 a c^-1 a_0 a^-20\")))\n",
    "print(exponent_sum(str_to_syllable(\"a_0\"),str_to_word(\"a^2 b_100 a c^-1 a_0 a^-20 a^2_0\")))"
   ]
  },
  {
   "cell_type": "code",
   "execution_count": 15,
   "metadata": {},
   "outputs": [],
   "source": [
    "#Here we rewrite relation so that the generator with exponent sum=0 is not in the first position\n",
    "#relation and generators are already adjusted\n",
    "def remove_exp_zero(zero_generator,relation):\n",
    "    syl = relation[0]\n",
    "    if zero_generator.ltr == syl.ltr and zero_generator.sub == syl.sub:\n",
    "        return reduce_word(relation[1:] + [syl.inverse()])\n",
    "    else:\n",
    "        return relation"
   ]
  },
  {
   "cell_type": "code",
   "execution_count": 16,
   "metadata": {
    "scrolled": true
   },
   "outputs": [
    {
     "name": "stdout",
     "output_type": "stream",
     "text": [
      "b c_{3} a_{3}\n",
      "b c_{3}\n",
      "b a_{3} c_{3} a_{3}^{-1}\n",
      "b a_{3} c_{3} a_{3}^{99}\n"
     ]
    }
   ],
   "source": [
    "print(word_to_str(remove_exp_zero(str_to_syllable(\"a_3\"), str_to_word(\"a^-1_3 b c_3\"))))\n",
    "print(word_to_str(remove_exp_zero(str_to_syllable(\"a_3\"), str_to_word(\"b c_3\"))))\n",
    "print(word_to_str(remove_exp_zero(str_to_syllable(\"a_3\"), str_to_word(\"a_3 b a_3 c_3\"))))\n",
    "print(word_to_str(remove_exp_zero(str_to_syllable(\"a_3\"), str_to_word(\"a_3b a_3     c_3a_3^100\"))))"
   ]
  },
  {
   "cell_type": "code",
   "execution_count": 17,
   "metadata": {},
   "outputs": [],
   "source": [
    "def relation_prime(zero_generator,relation):\n",
    "    new_relation = [relation[0].add_subscript(0)]\n",
    "    for i in range(1,len(relation)):\n",
    "        if relation[i].ltr != zero_generator.ltr:\n",
    "            subscript = -exponent_sum(zero_generator, relation[:i])\n",
    "            syl = relation[i].add_subscript(subscript)\n",
    "            new_relation.append(syl)\n",
    "    return(reduce_word(new_relation))"
   ]
  },
  {
   "cell_type": "code",
   "execution_count": 18,
   "metadata": {},
   "outputs": [
    {
     "name": "stdout",
     "output_type": "stream",
     "text": [
      "b a c b^{2} a^{-3} c^{3} a^{2}\n",
      "b_{0} c_{-1} b_{-1}^{2} c_{2}^{3}\n"
     ]
    }
   ],
   "source": [
    "r = str_to_word(\"b a c b^2 a^{-3} c^3 a^2\")\n",
    "print(word_to_str(r))\n",
    "r_prime = relation_prime(Syllable(\"a\",\"\",1), r)\n",
    "print(word_to_str(r_prime))"
   ]
  },
  {
   "cell_type": "code",
   "execution_count": 19,
   "metadata": {},
   "outputs": [],
   "source": [
    "def smallest_subscript(letter,relation):\n",
    "    return min([syl.sub for syl in relation if syl.ltr == letter])\n",
    "\n",
    "def largest_subscript(letter,relation):\n",
    "    return max([syl.sub for syl in relation if syl.ltr == letter])"
   ]
  },
  {
   "cell_type": "code",
   "execution_count": 20,
   "metadata": {},
   "outputs": [
    {
     "name": "stdout",
     "output_type": "stream",
     "text": [
      "-1\n",
      "-1\n",
      "w = a_0_{-100} b_{-7}^{9} a_0_{-20}^{99}\n",
      "-100\n",
      "0\n",
      "2\n",
      "-20\n"
     ]
    }
   ],
   "source": [
    "print(smallest_subscript(\"b\", r_prime))\n",
    "print(smallest_subscript(\"c\", r_prime))\n",
    "\n",
    "w = [Syllable(\"a_0\",-100,1), Syllable(\"b\",-7,9), Syllable(\"a_0\",-20,99)]\n",
    "print(\"w = \" + word_to_str(w))\n",
    "print(smallest_subscript(\"a_0\", w))\n",
    "\n",
    "print(largest_subscript(\"b\", r_prime))\n",
    "print(largest_subscript(\"c\", r_prime))\n",
    "print(largest_subscript(\"a_0\", w))"
   ]
  },
  {
   "cell_type": "code",
   "execution_count": 21,
   "metadata": {},
   "outputs": [],
   "source": [
    "class Group:\n",
    "    def __init__(self, generators, relations):\n",
    "        self.gens = generators # list of syllables\n",
    "        self.rels = relations  # list of words\n",
    "        \n",
    "    def __str__(self):\n",
    "        gens_str = \", \".join([str(g) for g in self.gens])\n",
    "        rels_str = \", \".join([word_to_str(r) for r in self.rels])\n",
    "        return \"<\" + gens_str + \" | \"  + rels_str + \">\""
   ]
  },
  {
   "cell_type": "code",
   "execution_count": 22,
   "metadata": {},
   "outputs": [],
   "source": [
    "def str_to_group(string):\n",
    "    string = string.replace(\"<\",\"\").replace(\">\",\"\").replace(\"\\\\langle\",\"\").replace(\"\\\\rangle\",\"\").replace(\" \",\"\")\n",
    "    \n",
    "    divider = \"\\\\mid\" if \"\\\\mid\" in string else \"|\"\n",
    "    \n",
    "    generators_string = string[:string.index(divider)]\n",
    "    generators = [str_to_syllable(s) for s in generators_string.split(\",\")]\n",
    "\n",
    "    relations_string = string[string.index(divider)+len(divider):]\n",
    "    strings = relations_string.split(\",\")\n",
    "    relations = []\n",
    "    for s in strings:\n",
    "        if \"=\" not in s: # e.g., xyx^{-1}y^{-1}\n",
    "            relations.append(str_to_word(s))\n",
    "        else: # e.g., xy=yx or xyx^-1=1\n",
    "            left = s[:s.index(\"=\")]\n",
    "            left_word = str_to_word(left)\n",
    "            \n",
    "            right = s[s.index(\"=\")+1:]\n",
    "            right_word = str_to_word(right)\n",
    "            \n",
    "            if left == \"1\":\n",
    "                relations.append(right_word)\n",
    "            elif right == \"1\":\n",
    "                relations.append(left_word)\n",
    "            else:\n",
    "                left_word.extend(invert_word(right_word))\n",
    "                relations.append(left_word)\n",
    "    \n",
    "    return Group(generators, relations)"
   ]
  },
  {
   "cell_type": "code",
   "execution_count": 23,
   "metadata": {},
   "outputs": [
    {
     "name": "stdout",
     "output_type": "stream",
     "text": [
      "<a, b, c | b a c b^{2} a^{-3} c^{3} a^{2}>\n",
      "<a, b, c, q | b a c b^{2} a^{-3} c^{3} a^{2}, a^{100}>\n",
      "<x, y, a, b | x y x^{-1} y^{-1}, a^{2}, b^{100}, x y x^{-1}>\n"
     ]
    }
   ],
   "source": [
    "print(str_to_group(\"<a, b, c | b a c b^{2} a^{-3} c^{3} a^{2}>\"))\n",
    "print(str_to_group(\"\\\\langle a,b,c,q \\\\mid bac b^{2}   a^{-3} c^{3} a^{2},a^100 \\\\rangle\"))\n",
    "print(str_to_group(\"<x,y,a,b|xy=yx, a^2, b^100=1, 1=xyx^-1>\"))"
   ]
  },
  {
   "cell_type": "code",
   "execution_count": 24,
   "metadata": {},
   "outputs": [],
   "source": [
    "def magnus_case1(group, used_letters=set()):\n",
    "    generators = group.gens\n",
    "    relation = reduce_word(group.rels[0])\n",
    "    \n",
    "    # Find a generator with exponent sum zero\n",
    "    for generator in generators:\n",
    "        if exponent_sum(generator, relation)==0:\n",
    "            zero_generator = generator\n",
    "            break\n",
    "\n",
    "    relation_shifted = remove_exp_zero(zero_generator, relation)\n",
    "    relation_p = relation_prime(zero_generator, relation_shifted)\n",
    "\n",
    "    letters = {syl.ltr for syl in relation_p}\n",
    "    new_generators = []\n",
    "    letter_max_sub={}\n",
    "    for letter in letters:\n",
    "        l_subscript = largest_subscript(letter,relation_p)\n",
    "        s_subscript = smallest_subscript(letter,relation_p)\n",
    "        letter_max_sub[letter]=l_subscript\n",
    "        for i in range(s_subscript, l_subscript+1):\n",
    "            new_generators.append(Syllable(letter, i, 1))\n",
    "\n",
    "    # Rewrite G as HNN extension\n",
    "    used_letters = used_letters.union({g.ltr[0] for g in new_generators}).union({g.ltr[0] for g in relation})\n",
    "    t=get_new_letters(used_letters,1,[\"t\"])[0]\n",
    "    used_letters = used_letters.union(t)\n",
    "    new_generators_of_group=new_generators.copy()\n",
    "    new_generators_of_group.append(Syllable(t,\"\",1))\n",
    "    new_relations_of_group=[relation_p]\n",
    "    for generator in new_generators:\n",
    "        if generator.sub != letter_max_sub[generator.ltr]:\n",
    "            new_relations_of_group.append([Syllable(t,\"\",-1),\n",
    "                                           generator,\n",
    "                                           Syllable(t,\"\",1),\n",
    "                                           Syllable(generator.ltr,generator.sub+1,generator.exp*-1)])\n",
    "    \n",
    "    return [Group(new_generators_of_group, new_relations_of_group),\n",
    "            Group(new_generators, [relation_p]),\n",
    "            used_letters]"
   ]
  },
  {
   "cell_type": "code",
   "execution_count": 25,
   "metadata": {},
   "outputs": [
    {
     "name": "stdout",
     "output_type": "stream",
     "text": [
      "<a_{-1}, a_{0}, c_{-1}, t | a_{0}^{-1} c_{-1} a_{-1}^{2}, t^{-1} a_{-1} t a_{0}^{-1}>\n",
      "<a_{-1}, a_{0}, c_{-1} | a_{0}^{-1} c_{-1} a_{-1}^{2}>\n"
     ]
    }
   ],
   "source": [
    "[G,H,used_letters]=magnus_case1(str_to_group(\"<a,b,c|a^-1bcaab^-1>\"))\n",
    "print(G)\n",
    "print(H)"
   ]
  },
  {
   "cell_type": "code",
   "execution_count": 26,
   "metadata": {},
   "outputs": [
    {
     "name": "stdout",
     "output_type": "stream",
     "text": [
      "<c_{-1}, c_{0}, c_{1}, c_{2}, b_{-1}, b_{0}, t | b_{0} c_{-1} b_{-1}^{2} c_{2}^{3}, t^{-1} c_{-1} t c_{0}^{-1}, t^{-1} c_{0} t c_{1}^{-1}, t^{-1} c_{1} t c_{2}^{-1}, t^{-1} b_{-1} t b_{0}^{-1}>\n",
      "\n",
      "<c_{-1}, c_{0}, c_{1}, c_{2}, b_{-1}, b_{0} | b_{0} c_{-1} b_{-1}^{2} c_{2}^{3}>\n"
     ]
    }
   ],
   "source": [
    "[G,H,used_letters]=magnus_case1(str_to_group(\"<a,b,c|bacb^2a^-3c^3a^2>\"))\n",
    "print(G)\n",
    "print()\n",
    "print(H)"
   ]
  },
  {
   "cell_type": "code",
   "execution_count": 27,
   "metadata": {},
   "outputs": [],
   "source": [
    "#this function rewrites a group G as a free product of free groups and a one relator group. \n",
    "#It outputs a one relator group where all gen appear in relation and the free generators\n",
    "\n",
    "def free_gen_rewrite(group):\n",
    "    generators = group.gens\n",
    "    relation = reduce_word(group.rels[0])\n",
    "    free_generators=[]\n",
    "    relation_letters=[(syl.ltr,syl.sub) for syl in relation]\n",
    "    \n",
    "    for generator in generators:\n",
    "        if (generator.ltr,generator.sub) not in relation_letters:\n",
    "            free_generators.append(generator)\n",
    "    \n",
    "    new_generators=[]\n",
    "    for gen in generators:\n",
    "        if gen not in free_generators:\n",
    "            new_generators.append(gen)\n",
    "\n",
    "    return [free_generators, Group(new_generators,[relation])]"
   ]
  },
  {
   "cell_type": "code",
   "execution_count": 28,
   "metadata": {
    "scrolled": true
   },
   "outputs": [
    {
     "name": "stdout",
     "output_type": "stream",
     "text": [
      "<a, b, c, d, e, f, x | b a c b^{2} a^{-3} c^{3} a^{2} d>\n",
      "e,f,x\n",
      "<a, b, c, d | b a c b^{2} a^{-3} c^{3} a^{2} d>\n",
      "H=  <c_{-1}, c_{0}, c_{1}, c_{2}, b_{-1}, b_{0}, d_{0} | b_{0} c_{-1} b_{-1}^{2} c_{2}^{3} d_{0}>\n",
      "G=  <c_{-1}, c_{0}, c_{1}, c_{2}, b_{-1}, b_{0}, d_{0}, t | b_{0} c_{-1} b_{-1}^{2} c_{2}^{3} d_{0}, t^{-1} c_{-1} t c_{0}^{-1}, t^{-1} c_{0} t c_{1}^{-1}, t^{-1} c_{1} t c_{2}^{-1}, t^{-1} b_{-1} t b_{0}^{-1}>\n"
     ]
    }
   ],
   "source": [
    "G = str_to_group(\"<a, b, c, d, e,f,x | b a c b^{2} a^{-3} c^{3} a^{2} d>\")\n",
    "print(G)\n",
    "free_gens,G_again = free_gen_rewrite(G)\n",
    "print(\",\".join([str(g) for g in free_gens]))\n",
    "print(G_again)\n",
    "[G_rewritten,H,used_letters] = magnus_case1(G)\n",
    "print(\"H= \",H)\n",
    "print(\"G= \",G_rewritten)"
   ]
  },
  {
   "cell_type": "code",
   "execution_count": 29,
   "metadata": {},
   "outputs": [
    {
     "name": "stdout",
     "output_type": "stream",
     "text": [
      "<a, b | a b^{10} a b^{-7} a b^{-3}>\n",
      "<a_{-10}, a_{-9}, a_{-8}, a_{-7}, a_{-6}, a_{-5}, a_{-4}, a_{-3}, a_{-2}, a_{-1}, a_{0}, t | a_{0} a_{-10} a_{-3}, t^{-1} a_{-10} t a_{-9}^{-1}, t^{-1} a_{-9} t a_{-8}^{-1}, t^{-1} a_{-8} t a_{-7}^{-1}, t^{-1} a_{-7} t a_{-6}^{-1}, t^{-1} a_{-6} t a_{-5}^{-1}, t^{-1} a_{-5} t a_{-4}^{-1}, t^{-1} a_{-4} t a_{-3}^{-1}, t^{-1} a_{-3} t a_{-2}^{-1}, t^{-1} a_{-2} t a_{-1}^{-1}, t^{-1} a_{-1} t a_{0}^{-1}>\n",
      "<a_{-10}, a_{-9}, a_{-8}, a_{-7}, a_{-6}, a_{-5}, a_{-4}, a_{-3}, a_{-2}, a_{-1}, a_{0} | a_{0} a_{-10} a_{-3}>\n"
     ]
    }
   ],
   "source": [
    "G = str_to_group(\"<a,b|ab^10 ab^{-7} ab^{-3}>\")\n",
    "print(G)\n",
    "[G_rewritten, H, used_letters] = magnus_case1(G)\n",
    "print(G_rewritten)\n",
    "print(H)"
   ]
  },
  {
   "cell_type": "code",
   "execution_count": 30,
   "metadata": {},
   "outputs": [],
   "source": [
    "#returns a group that does have a zero generator than you can then input into magnus_case1\n",
    "def magnus_case2(group, used_letters=set()):\n",
    "    generators = group.gens\n",
    "    gen0 = generators[0]\n",
    "    gen1 = generators[1]\n",
    "    relation=group.rels[0]   \n",
    "    exp_sum0 = exponent_sum(gen0,relation) \n",
    "    exp_sum1 = exponent_sum(gen1,relation)\n",
    "        \n",
    "    used_letters = used_letters.union({gen.ltr[0] for gen in generators})\n",
    "    x,y = get_new_letters(used_letters,2,[\"x\",\"y\"]) #gets two new letters for new generators\n",
    "    used_letters = used_letters.union({x,y})\n",
    "    syl_0=Syllable(x,\"\",1)\n",
    "    syl_1=Syllable(y,\"\",1)\n",
    "    replacement0 = [syl_1, Syllable(x, \"\", -exp_sum1)] #yx^{-\\beta}\n",
    "    replacement1 = [Syllable(x, \"\", exp_sum0)]         #x^{\\alpha},x (syl_1) will be zero_gen now\n",
    "    \n",
    "    new_relation = []\n",
    "    for i in range(len(relation)):\n",
    "        if relation[i].ltr==gen0.ltr and relation[i].sub==gen0.sub:\n",
    "            exp = relation[i].exp\n",
    "            if exp >= 0:\n",
    "                replacements = replacement0 * exp\n",
    "            else:\n",
    "                replacements = invert_word(replacement0) * (-exp)\n",
    "            new_relation.extend(replacements)\n",
    "            \n",
    "        elif relation[i].ltr == gen1.ltr and relation[i].sub==gen1.sub:\n",
    "            exp = relation[i].exp\n",
    "            if exp >= 0:\n",
    "                replacements = replacement1 * exp\n",
    "            else:\n",
    "                replacements = invert_word(replacement1) * (-exp)\n",
    "            new_relation.extend(replacements)\n",
    "        else:\n",
    "            new_relation.append(relation[i])\n",
    "            \n",
    "    new_generators=[syl_0,syl_1]\n",
    "    new_generators.extend(generators[2:])\n",
    "            \n",
    "    return [Group(new_generators,[reduce_word(new_relation)]),\n",
    "            used_letters]"
   ]
  },
  {
   "cell_type": "code",
   "execution_count": 31,
   "metadata": {},
   "outputs": [
    {
     "name": "stdout",
     "output_type": "stream",
     "text": [
      "<a, b, c | a b^{2} c b^{-1} a b^{-1}>\n",
      "<x, y, c | y x^{4} c x^{-2} y x^{-2}>\n"
     ]
    }
   ],
   "source": [
    "G=str_to_group(\"<a,b,c|ab^2cb^-1ab^-1\")\n",
    "print(G)\n",
    "C=magnus_case2(G)[0]\n",
    "print(C)"
   ]
  },
  {
   "cell_type": "code",
   "execution_count": 32,
   "metadata": {},
   "outputs": [],
   "source": [
    "def relation_length(relation):\n",
    "    return sum([abs(syl.exp) for syl in relation])"
   ]
  },
  {
   "cell_type": "code",
   "execution_count": 33,
   "metadata": {
    "scrolled": true
   },
   "outputs": [],
   "source": [
    "def magnus_breakdown(group):\n",
    "    print(group)\n",
    "    hierarchy_of_groups=[group]\n",
    "    \n",
    "    used_letters = {gen.ltr[0] for gen in group.gens}\n",
    "    \n",
    "    while relation_length(hierarchy_of_groups[-1].rels[0])>1:\n",
    "        free_generators, group =free_gen_rewrite(group)\n",
    "        generators = group.gens\n",
    "        relation = reduce_word(group.rels[0])\n",
    "    \n",
    "        zero_gen=None\n",
    "        for gen in generators:\n",
    "            if exponent_sum(gen,relation)==0:\n",
    "                zero_gen=gen\n",
    "                break\n",
    "        if zero_gen != None:\n",
    "            [original_group, group, used_letters] = magnus_case1(group, used_letters)\n",
    "            hierarchy_of_groups.append(group)\n",
    "            print(\"\\nCase 1: \"+str(group))\n",
    "        else:\n",
    "            [group, used_letters] = magnus_case2(group, used_letters)\n",
    "            hierarchy_of_groups.append(group)\n",
    "            print(\"\\nCase 2: \"+str(group))\n",
    "\n",
    "    return hierarchy_of_groups"
   ]
  },
  {
   "cell_type": "code",
   "execution_count": 34,
   "metadata": {},
   "outputs": [
    {
     "name": "stdout",
     "output_type": "stream",
     "text": [
      "<a, b, c | b a c b^{2} a^{-3} c^{3} a^{2}>\n",
      "\n",
      "Case 1: <c_{-1}, c_{0}, c_{1}, c_{2}, b_{-1}, b_{0} | b_{0} c_{-1} b_{-1}^{2} c_{2}^{3}>\n",
      "\n",
      "Case 2: <x, y, b_{-1}, b_{0} | b_{0} y x^{-3} b_{-1}^{2} x^{3}>\n",
      "\n",
      "Case 1: <b_{0}_{0}, y_{0}, b_{-1}_{3} | b_{0}_{0} y_{0} b_{-1}_{3}^{2}>\n",
      "\n",
      "Case 2: <e, f, b_{-1}_{3} | f b_{-1}_{3}^{2}>\n",
      "\n",
      "Case 2: <g, h | h>\n"
     ]
    }
   ],
   "source": [
    "groups = magnus_breakdown(str_to_group(\"<a,b,c|bacb^2a^-3c^3a^2>\"))"
   ]
  },
  {
   "cell_type": "code",
   "execution_count": 35,
   "metadata": {
    "scrolled": true
   },
   "outputs": [
    {
     "name": "stdout",
     "output_type": "stream",
     "text": [
      "<a, b, c, d | a^{2} b c^{-1} a>\n",
      "\n",
      "Case 2: <x, y, c | y x^{-1} y x^{2} c^{-1} y x^{-1}>\n",
      "\n",
      "Case 1: <y_{-1}, y_{0}, y_{1}, c_{-1} | y_{0} y_{1} c_{-1}^{-1} y_{-1}>\n",
      "\n",
      "Case 2: <e, f, y_{1}, c_{-1} | e y_{1} c_{-1}^{-1} f e^{-1}>\n",
      "\n",
      "Case 1: <c_{-1}_{0}, y_{1}_{0}, f_{0} | y_{1}_{0} c_{-1}_{0}^{-1} f_{0}>\n",
      "\n",
      "Case 2: <h, k, f_{0} | k^{-1} f_{0}>\n",
      "\n",
      "Case 2: <l, m | l m^{-1} l^{-1}>\n",
      "\n",
      "Case 1: <m_{0} | m_{0}^{-1}>\n"
     ]
    }
   ],
   "source": [
    "groups = magnus_breakdown(str_to_group(\"<a,b,c,d|a^2bc^-1a>\"))"
   ]
  },
  {
   "cell_type": "markdown",
   "metadata": {},
   "source": [
    "TO DO:\n",
    "- add option to choose zero generator \n",
    "- keep track of original group"
   ]
  },
  {
   "cell_type": "code",
   "execution_count": null,
   "metadata": {},
   "outputs": [],
   "source": []
  },
  {
   "cell_type": "code",
   "execution_count": null,
   "metadata": {},
   "outputs": [],
   "source": []
  }
 ],
 "metadata": {
  "kernelspec": {
   "display_name": "Python 3",
   "language": "python",
   "name": "python3"
  },
  "language_info": {
   "codemirror_mode": {
    "name": "ipython",
    "version": 3
   },
   "file_extension": ".py",
   "mimetype": "text/x-python",
   "name": "python",
   "nbconvert_exporter": "python",
   "pygments_lexer": "ipython3",
   "version": "3.7.4"
  }
 },
 "nbformat": 4,
 "nbformat_minor": 2
}
